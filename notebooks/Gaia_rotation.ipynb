{
 "cells": [
  {
   "cell_type": "code",
   "execution_count": 9,
   "metadata": {},
   "outputs": [],
   "source": [
    "import numpy as np\n",
    "import matplotlib.pyplot as plt\n",
    "%matplotlib inline\n",
    "import pandas as pd\n",
    "\n",
    "from astropy import units as u"
   ]
  },
  {
   "cell_type": "code",
   "execution_count": 41,
   "metadata": {},
   "outputs": [
    {
     "name": "stdout",
     "output_type": "stream",
     "text": [
      "Circumference =  4371212.018204838 km\n",
      "Velocity =  1.9458742958532933 km / s\n",
      "inclination =  28.64788975654116 deg\n"
     ]
    }
   ],
   "source": [
    "def radius_to_circumference(radius_rsun):\n",
    "    radius_rsun *= u.R_sun\n",
    "    radius_km = radius_rsun.to(u.km)\n",
    "    return 2*np.pi*radius_km\n",
    "    \n",
    "def period_and_circ_to_velocity(period_days, circumference):\n",
    "    period_days *= u.day\n",
    "    period_s = period_days.to(u.s)\n",
    "    velocity = circumference/period_s # km/s\n",
    "    return velocity\n",
    "    \n",
    "def vsini_to_inclination(vsini, velocity):\n",
    "    velocity *= u.km/u.s\n",
    "    vsini *= u.km/u.s\n",
    "    sini = vsini/velocity\n",
    "    inc = np.arcsin(sini)\n",
    "    return inc.to(u.deg)\n",
    "\n",
    "# tests\n",
    "rsun = 1\n",
    "circ = radius_to_circumference(rsun)\n",
    "print(\"Circumference = \", circ)\n",
    "velocity = period_and_circ_to_velocity(26, circ)\n",
    "print(\"Velocity = \", velocity)\n",
    "inclination = vsini_to_inclination(velocity*np.sin(.5), velocity)\n",
    "print(\"inclination = \", inclination)"
   ]
  },
  {
   "cell_type": "code",
   "execution_count": 8,
   "metadata": {},
   "outputs": [
    {
     "data": {
      "text/plain": [
       "Index(['source_id', 'vsini_esphs', 'vsini_esphs_uncertainty', 'radius_flame',\n",
       "       'radius_flame_upper', 'radius_flame_lower'],\n",
       "      dtype='object')"
      ]
     },
     "execution_count": 8,
     "metadata": {},
     "output_type": "execute_result"
    }
   ],
   "source": [
    "act = pd.read_csv(\"../data/vsini-result.csv\")\n",
    "act.keys()"
   ]
  },
  {
   "cell_type": "code",
   "execution_count": 4,
   "metadata": {},
   "outputs": [
    {
     "name": "stdout",
     "output_type": "stream",
     "text": [
      "(29949, 20) (198451, 134) (30184, 164)\n"
     ]
    }
   ],
   "source": [
    "lu_kepler = pd.read_csv(\"../../data/lu_kinematic_ages.csv\", skiprows=72)\n",
    "full_kepler = pd.read_csv(\"../../data/kepler_edr3_1arcsec.csv\")\n",
    "mc = pd.read_csv(\"../../data/Table_1_Periodic.txt\")\n",
    "\n",
    "kepler1 = pd.merge(lu_kepler, full_kepler, how=\"left\", left_on=\"KIC\", right_on=\"kepid\")\n",
    "kepler = pd.merge(kepler1, mc, how=\"left\", on=\"kepid\", suffixes=[\"\", \"_mcquillan\"])\n",
    "print(np.shape(lu_kepler), np.shape(full_kepler), np.shape(kepler))"
   ]
  },
  {
   "cell_type": "code",
   "execution_count": 6,
   "metadata": {},
   "outputs": [],
   "source": [
    "df = pd.merge(act, kepler, on=\"source_id\")"
   ]
  },
  {
   "cell_type": "code",
   "execution_count": 7,
   "metadata": {},
   "outputs": [
    {
     "data": {
      "text/plain": [
       "[<matplotlib.lines.Line2D at 0x7faeccbef290>]"
      ]
     },
     "execution_count": 7,
     "metadata": {},
     "output_type": "execute_result"
    },
    {
     "data": {
      "image/png": "[encoded data removed]",
      "text/plain": [
       "<Figure size 432x288 with 1 Axes>"
      ]
     },
     "metadata": {
      "needs_background": "light"
     },
     "output_type": "display_data"
    }
   ],
   "source": [
    "plt.plot(df.Prot, df.best_rotation_period, \".\")"
   ]
  },
  {
   "cell_type": "code",
   "execution_count": null,
   "metadata": {},
   "outputs": [],
   "source": []
  }
 ],
 "metadata": {
  "kernelspec": {
   "display_name": "Python 3",
   "language": "python",
   "name": "python3"
  },
  "language_info": {
   "codemirror_mode": {
    "name": "ipython",
    "version": 3
   },
   "file_extension": ".py",
   "mimetype": "text/x-python",
   "name": "python",
   "nbconvert_exporter": "python",
   "pygments_lexer": "ipython3",
   "version": "3.7.6"
  }
 },
 "nbformat": 4,
 "nbformat_minor": 4
}
